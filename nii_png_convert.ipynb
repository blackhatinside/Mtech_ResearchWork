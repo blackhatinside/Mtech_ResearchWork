{
 "cells": [
  {
   "cell_type": "code",
   "execution_count": 1,
   "id": "d170b048",
   "metadata": {
    "_cell_guid": "b1076dfc-b9ad-4769-8c92-a6c4dae69d19",
    "_uuid": "8f2839f25d086af736a60e9eeb907d3b93b6e0e5",
    "execution": {
     "iopub.execute_input": "2024-08-28T05:23:16.188499Z",
     "iopub.status.busy": "2024-08-28T05:23:16.188041Z",
     "iopub.status.idle": "2024-08-28T05:23:33.788881Z",
     "shell.execute_reply": "2024-08-28T05:23:33.787511Z"
    },
    "papermill": {
     "duration": 17.610671,
     "end_time": "2024-08-28T05:23:33.792053",
     "exception": false,
     "start_time": "2024-08-28T05:23:16.181382",
     "status": "completed"
    },
    "tags": []
   },
   "outputs": [],
   "source": [
    "# Libraries\n",
    "# !pip install nilearn\n",
    "\n",
    "import nibabel as nib\n",
    "import numpy as np\n",
    "import os\n",
    "import cv2\n",
    "from matplotlib import pyplot as plt\n",
    "\n",
    "from sklearn.preprocessing import MinMaxScaler\n",
    "scaler = MinMaxScaler()\n",
    "\n",
    "from sklearn.model_selection import train_test_split\n",
    "import tensorflow as tf\n",
    "import tensorflow.keras.backend as K\n",
    "from keras.models import Model\n",
    "from keras.layers import Input, Dropout, Conv2D, MaxPooling2D, UpSampling2D, concatenate\n",
    "from keras.callbacks import EarlyStopping, ModelCheckpoint, CSVLogger\n",
    "from tensorflow.keras.optimizers import Adam\n",
    "from tensorflow.keras.losses import binary_crossentropy\n",
    "from tensorflow.keras.metrics import MeanIoU\n",
    "\n"
   ]
  },
  {
   "cell_type": "code",
   "execution_count": 2,
   "id": "00e2cc5a",
   "metadata": {
    "execution": {
     "iopub.execute_input": "2024-08-28T05:23:33.801477Z",
     "iopub.status.busy": "2024-08-28T05:23:33.800716Z",
     "iopub.status.idle": "2024-08-28T05:23:33.818001Z",
     "shell.execute_reply": "2024-08-28T05:23:33.816869Z"
    },
    "papermill": {
     "duration": 0.025246,
     "end_time": "2024-08-28T05:23:33.820855",
     "exception": false,
     "start_time": "2024-08-28T05:23:33.795609",
     "status": "completed"
    },
    "tags": []
   },
   "outputs": [],
   "source": [
    "# Paths and dataset\n",
    "TRAIN_DATASET_PATH = '../input/siss2015small/SISS2015_Training/'\n",
    "PNG_PATH = '../input_png/'\n",
    "PNG_TRAIN_DATASET_PATH = '../input_png/SISS2015_Training/'\n",
    "train_directories = [f.path+'/' for f in os.scandir(TRAIN_DATASET_PATH) if f.is_dir()]\n",
    "train_ids = train_directories.copy()\n",
    "train_ids.sort()\n",
    "\n",
    "# train_test_ids, val_ids = train_test_split(train_ids, test_size=0.2, shuffle=False)\n",
    "# train_ids, test_ids = train_test_split(train_test_ids, test_size=0.15, shuffle=False)\n",
    "\n",
    "VOLUME_SLICES = 153\n",
    "VOLUME_START_AT = 0\n",
    "IMG_SIZE=192\n",
    "\n"
   ]
  },
  {
   "cell_type": "code",
   "execution_count": 3,
   "id": "d7a7e311",
   "metadata": {
    "execution": {
     "iopub.execute_input": "2024-08-28T05:23:33.831897Z",
     "iopub.status.busy": "2024-08-28T05:23:33.831313Z",
     "iopub.status.idle": "2024-08-28T05:23:33.841376Z",
     "shell.execute_reply": "2024-08-28T05:23:33.840121Z"
    },
    "papermill": {
     "duration": 0.019522,
     "end_time": "2024-08-28T05:23:33.844097",
     "exception": false,
     "start_time": "2024-08-28T05:23:33.824575",
     "status": "completed"
    },
    "tags": []
   },
   "outputs": [],
   "source": [
    "try:\n",
    "    os.makedirs(PNG_TRAIN_DATASET_PATH, exist_ok=True)\n",
    "except FileExistsError as e:\n",
    "    print(\"Folder already exists!\")\n",
    "\n",
    "try:\n",
    "    for i in range(1, 29):\n",
    "        os.mkdir(PNG_TRAIN_DATASET_PATH + \"{}/\".format(str(i)))\n",
    "except FileExistsError as e:\n",
    "    print(\"Folder already exists!\")\n",
    "\n"
   ]
  },
  {
   "cell_type": "code",
   "execution_count": 4,
   "id": "2bcbbd04",
   "metadata": {
    "execution": {
     "iopub.execute_input": "2024-08-28T05:23:33.853450Z",
     "iopub.status.busy": "2024-08-28T05:23:33.852956Z",
     "iopub.status.idle": "2024-08-28T05:23:33.862479Z",
     "shell.execute_reply": "2024-08-28T05:23:33.861153Z"
    },
    "papermill": {
     "duration": 0.017419,
     "end_time": "2024-08-28T05:23:33.865195",
     "exception": false,
     "start_time": "2024-08-28T05:23:33.847776",
     "status": "completed"
    },
    "tags": []
   },
   "outputs": [
    {
     "name": "stdout",
     "output_type": "stream",
     "text": [
      "TOTAL TRAINING SAMPLES: \n",
      "SAMPLE 1:  ../input/siss2015small/SISS2015_Training/1/\n",
      "CURRENT WORKING DIRECTORY:  /kaggle/working\n",
      "CURRENT WORKING DIRECTORY ITEMS:  ['src', 'lib', 'input_png', 'input', 'working']\n",
      "PNG DATASET DIRECTORY ITEMS:  ['27', '22', '5', '23', '11', '6', '12', '24', '17', '20', '28', '18', '21', '4', '16', '10', '19', '26', '1', '25', '15', '9', '7', '3', '2', '8', '13', '14']\n"
     ]
    }
   ],
   "source": [
    "print(\"TOTAL TRAINING SAMPLES: \", )\n",
    "print(\"SAMPLE 1: \", train_ids[0])\n",
    "\n",
    "print(\"CURRENT WORKING DIRECTORY: \", os.getcwd())\n",
    "print(\"CURRENT WORKING DIRECTORY ITEMS: \", os.listdir('../'))\n",
    "print(\"PNG DATASET DIRECTORY ITEMS: \", os.listdir(PNG_TRAIN_DATASET_PATH))\n",
    "\n"
   ]
  },
  {
   "cell_type": "code",
   "execution_count": 5,
   "id": "ecfe12e4",
   "metadata": {
    "execution": {
     "iopub.execute_input": "2024-08-28T05:23:33.874042Z",
     "iopub.status.busy": "2024-08-28T05:23:33.873607Z",
     "iopub.status.idle": "2024-08-28T05:27:26.521735Z",
     "shell.execute_reply": "2024-08-28T05:27:26.520546Z"
    },
    "papermill": {
     "duration": 232.655712,
     "end_time": "2024-08-28T05:27:26.524408",
     "exception": false,
     "start_time": "2024-08-28T05:23:33.868696",
     "status": "completed"
    },
    "tags": []
   },
   "outputs": [
    {
     "name": "stdout",
     "output_type": "stream",
     "text": [
      "Path:  ../input_png/SISS2015_Training/1/\n",
      "File Name:  1_1_slice_2.png\n",
      "File Name with Path:  ../input_png/SISS2015_Training/1/1_1_slice_2.png\n",
      "Saved all PNGs for sample  1\n",
      "Total PNGs for sample 1:  770\n",
      "Saved all PNGs for sample  2\n",
      "Saved all PNGs for sample  3\n",
      "Saved all PNGs for sample  4\n",
      "Saved all PNGs for sample  5\n",
      "Saved all PNGs for sample  6\n",
      "Saved all PNGs for sample  7\n",
      "Saved all PNGs for sample  8\n",
      "Saved all PNGs for sample  9\n",
      "Saved all PNGs for sample  10\n",
      "Saved all PNGs for sample  11\n",
      "Saved all PNGs for sample  12\n",
      "Saved all PNGs for sample  13\n",
      "Saved all PNGs for sample  14\n",
      "Saved all PNGs for sample  15\n",
      "Saved all PNGs for sample  16\n",
      "Saved all PNGs for sample  17\n",
      "Saved all PNGs for sample  18\n",
      "Saved all PNGs for sample  19\n",
      "Saved all PNGs for sample  20\n",
      "Saved all PNGs for sample  21\n",
      "Saved all PNGs for sample  22\n",
      "Saved all PNGs for sample  23\n",
      "Saved all PNGs for sample  24\n",
      "Saved all PNGs for sample  25\n",
      "Saved all PNGs for sample  26\n",
      "Saved all PNGs for sample  27\n",
      "Saved all PNGs for sample  28\n",
      "Total PNGs for sample 28:  770\n"
     ]
    },
    {
     "data": {
      "image/png": "[encoded data removed]",
      "text/plain": [
       "<Figure size 640x480 with 1 Axes>"
      ]
     },
     "metadata": {},
     "output_type": "display_data"
    }
   ],
   "source": [
    "mod_dict = {\n",
    "    1: \".MR_DWI.\", \n",
    "    2: \".MR_Flair.\", \n",
    "    3: \".MR_T1.\", \n",
    "    4: \".MR_T2.\", \n",
    "    5: \".OT.\" # MASK OUTPUT\n",
    "}\n",
    "TOTAL_TRAINING_SAMPLES = len(train_ids) #28\n",
    "nii_counter = 70613\n",
    "\n",
    "def nii_to_png():\n",
    "    global nii_counter\n",
    "    global TOTAL_TRAINING_SAMPLES\n",
    "    for i in range(1, TOTAL_TRAINING_SAMPLES + 1):\n",
    "        if i == 15:\n",
    "            nii_counter = 70707\n",
    "        if i == 16:\n",
    "            nii_counter = 70717\n",
    "        if i == 19:\n",
    "            nii_counter = 70747\n",
    "        if i == 20:\n",
    "            nii_counter = 70761\n",
    "        for j in range(1, len(mod_dict) + 1):\n",
    "            if i == 16 and j == 3:\n",
    "                nii_counter = 70725\n",
    "            if i == 19 and j == 2:\n",
    "                nii_counter = 70750\n",
    "            if i == 19 and j == 3:\n",
    "                nii_counter = 70753\n",
    "            if i == 19 and j == 5:\n",
    "                nii_counter = 70758\n",
    "            if i == 20 and j == 2:\n",
    "                nii_counter = 70768\n",
    "            sample_path = \"{}/VSD.Brain.XX.O{}{}\".format(str(i), mod_dict[j], str(nii_counter))\n",
    "            file_name = \"/VSD.Brain.XX.O{}\".format(mod_dict[j]) + str(nii_counter) + \".nii\"\n",
    "            data_path = os.path.join(TRAIN_DATASET_PATH + sample_path + file_name)\n",
    "#             print(i, data_path)\n",
    "            if j != 4:\n",
    "                nii_counter += 1\n",
    "            else:\n",
    "                nii_counter += 2\n",
    "\n",
    "            if os.path.exists(data_path):\n",
    "                mri_image = nib.load(data_path).get_fdata()\n",
    "#                 print(\"Total Slices: \", i, mri_image.shape[-1])\n",
    "                for curr_slice in range(mri_image.shape[-1]): # Slice Values (153, 154)\n",
    "                    slice_data = mri_image[..., curr_slice]\n",
    "                    if i == 14 and curr_slice == 66: # Test Sample\n",
    "                        plt.imshow(slice_data, cmap='gray')\n",
    "                    sample_path = \"{}/VSD.Brain.XX.O{}{}\".format(str(i), mod_dict[j], str(nii_counter - 1 if j != 4 else 2))\n",
    "                    file_name = \"{}_{}_slice_{}.png\".format(i, j, curr_slice + 1) # mod_dict[j][1:-1]\n",
    "#                     png_path = os.path.join(PNG_TRAIN_DATASET_PATH + sample_path)\n",
    "                    png_path = \"{}{}/\".format(PNG_TRAIN_DATASET_PATH, i)\n",
    "                    if i == 1 and j == 1 and curr_slice == 1: # Test Sample\n",
    "                        print(\"Path: \", png_path)\n",
    "                        print(\"File Name: \", file_name)\n",
    "                        print(\"File Name with Path: \", png_path + file_name)\n",
    "                    try:\n",
    "                        plt.imsave(png_path + file_name, slice_data, cmap='gray')\n",
    "                        pass\n",
    "                    except Exception as e:\n",
    "                        print(\"Error: \", e)\n",
    "            else:\n",
    "                print(f\"File not found: {data_path}\")\n",
    "        print(\"Saved all PNGs for sample \", i)\n",
    "        if i == 1 or i == 28:\n",
    "            print(\"Total PNGs for sample {}: \".format(i), len(os.listdir(png_path)))\n",
    "        pass\n",
    "#         print(i, end = \" \")\n",
    "        \n",
    "        \n",
    "nii_to_png()\n",
    "\n"
   ]
  },
  {
   "cell_type": "code",
   "execution_count": null,
   "id": "07bb780c",
   "metadata": {
    "papermill": {
     "duration": 0.006166,
     "end_time": "2024-08-28T05:27:26.536947",
     "exception": false,
     "start_time": "2024-08-28T05:27:26.530781",
     "status": "completed"
    },
    "tags": []
   },
   "outputs": [],
   "source": []
  }
 ],
 "metadata": {
  "kaggle": {
   "accelerator": "none",
   "dataSources": [
    {
     "datasetId": 5243179,
     "sourceId": 8742976,
     "sourceType": "datasetVersion"
    }
   ],
   "dockerImageVersionId": 30761,
   "isGpuEnabled": false,
   "isInternetEnabled": true,
   "language": "python",
   "sourceType": "notebook"
  },
  "kernelspec": {
   "display_name": "Python 3 (ipykernel)",
   "language": "python",
   "name": "python3"
  },
  "language_info": {
   "codemirror_mode": {
    "name": "ipython",
    "version": 3
   },
   "file_extension": ".py",
   "mimetype": "text/x-python",
   "name": "python",
   "nbconvert_exporter": "python",
   "pygments_lexer": "ipython3",
   "version": "3.10.13"
  },
  "papermill": {
   "default_parameters": {},
   "duration": 255.223592,
   "end_time": "2024-08-28T05:27:28.269953",
   "environment_variables": {},
   "exception": null,
   "input_path": "__notebook__.ipynb",
   "output_path": "__notebook__.ipynb",
   "parameters": {},
   "start_time": "2024-08-28T05:23:13.046361",
   "version": "2.6.0"
  }
 },
 "nbformat": 4,
 "nbformat_minor": 5
}
